{
 "metadata": {
  "language_info": {
   "codemirror_mode": {
    "name": "ipython",
    "version": 3
   },
   "file_extension": ".py",
   "mimetype": "text/x-python",
   "name": "python",
   "nbconvert_exporter": "python",
   "pygments_lexer": "ipython3",
   "version": "3.6.4-final"
  },
  "orig_nbformat": 2,
  "kernelspec": {
   "name": "python3",
   "display_name": "Python 3.6.4 64-bit ('ProgramData': virtualenv)",
   "metadata": {
    "interpreter": {
     "hash": "b3ba2566441a7c06988d0923437866b63cedc61552a5af99d1f4fb67d367b25f"
    }
   }
  }
 },
 "nbformat": 4,
 "nbformat_minor": 2,
 "cells": [
  {
   "cell_type": "code",
   "execution_count": null,
   "metadata": {},
   "outputs": [],
   "source": [
    "import requests\n",
    "import json\n",
    "import configparser\n",
    "\n",
    "config = configparser.ConfigParser()\n",
    "config.read('tokens/config.ini')\n",
    "\n",
    "# Use this link: http://www.strava.com/oauth/authorize?client_id=[REPLACE_WITH_YOUR_CLIENT_ID]&response_type=code&redirect_uri=http://localhost/exchange_token&approval_prompt=force&scope=profile:read_all,activity:read_all\n",
    "\n",
    "\n",
    "# Make Strava auth API call with your \n",
    "# client_code, client_secret and code\n",
    "response = requests.post(\n",
    "                    url = 'https://www.strava.com/oauth/token',\n",
    "                    data = {\n",
    "                            'client_id': int(config['STRAVA_TOKENS']['client_id']),\n",
    "                            'client_secret': config['STRAVA_TOKENS']['client_secret'],\n",
    "                            #'code': 'PASTE_CODE_FROM_URL_HERE',\n",
    "                            'code': '60472dbbb1166a3efc762abf2fecb5ddada67087',\n",
    "                            'grant_type': 'authorization_code'})\n",
    "\n",
    "#Save json response as a variable\n",
    "strava_tokens = response.json()\n",
    "\n",
    "# Save tokens to file\n",
    "with open('tokens/strava_tokens.json', 'w') as outfile:\n",
    "    json.dump(strava_tokens, outfile)\n",
    "\n",
    "# Open JSON file and print the file contents \n",
    "# to check it's worked properly\n",
    "with open('tokens/strava_tokens.json') as check:\n",
    "  data = json.load(check)\n",
    "print(data)"
   ]
  }
 ]
}