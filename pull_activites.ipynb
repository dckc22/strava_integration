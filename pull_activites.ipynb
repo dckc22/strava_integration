{
 "metadata": {
  "language_info": {
   "codemirror_mode": {
    "name": "ipython",
    "version": 3
   },
   "file_extension": ".py",
   "mimetype": "text/x-python",
   "name": "python",
   "nbconvert_exporter": "python",
   "pygments_lexer": "ipython3",
   "version": "3.6.4-final"
  },
  "orig_nbformat": 2,
  "kernelspec": {
   "name": "python3",
   "display_name": "Python 3.6.4 64-bit ('ProgramData': virtualenv)",
   "metadata": {
    "interpreter": {
     "hash": "b3ba2566441a7c06988d0923437866b63cedc61552a5af99d1f4fb67d367b25f"
    }
   }
  }
 },
 "nbformat": 4,
 "nbformat_minor": 2,
 "cells": [
  {
   "cell_type": "code",
   "execution_count": null,
   "metadata": {},
   "outputs": [],
   "source": [
    "import pandas as pd\n",
    "import requests\n",
    "import json\n",
    "import time\n",
    "import configparser\n",
    "import datetime \n",
    "\n",
    "# Read the config file\n",
    "config = configparser.ConfigParser()\n",
    "config.read('tokens/config.ini')\n",
    "\n",
    "## Get the tokens from file to connect to Strava\n",
    "with open('tokens/strava_tokens.json') as json_file:\n",
    "    strava_tokens = json.load(json_file)\n",
    "## If access_token has expired then use the refresh_token to get the new access_token\n",
    "if strava_tokens['expires_at'] < time.time():\n",
    "#Make Strava auth API call with current refresh token\n",
    "    response = requests.post(\n",
    "                        url = 'https://www.strava.com/oauth/token',\n",
    "                        data = {\n",
    "                                'client_id': int(config['STRAVA_TOKENS']['client_id']),\n",
    "                                'client_secret': config['STRAVA_TOKENS']['client_secret'],\n",
    "                                'grant_type': 'refresh_token',\n",
    "                                'refresh_token': strava_tokens['refresh_token']\n",
    "                                }\n",
    "                    )\n",
    "# Save response as json in new variable\n",
    "    new_strava_tokens = response.json()\n",
    "# Save new tokens to file\n",
    "    with open('strava_tokens.json', 'w') as outfile:\n",
    "        json.dump(new_strava_tokens, outfile)\n",
    "#Use new Strava tokens from now\n",
    "    strava_tokens = new_strava_tokens\n",
    "#Loop through all activities\n",
    "page = 1\n",
    "url = \"https://www.strava.com/api/v3/activities\"\n",
    "access_token = strava_tokens['access_token']\n",
    "## Create the dataframe ready for the API call to store your activity data\n",
    "activities = pd.DataFrame(\n",
    "    columns = [\n",
    "            \"name\",\n",
    "            \"start_date_local\",\n",
    "            \"type\",\n",
    "            \"distance\",\n",
    "            \"moving_time\",\n",
    "            \"elapsed_time\",\n",
    "            \"total_elevation_gain\"\n",
    "\n",
    "    ]\n",
    ")\n",
    "while True:\n",
    "    \n",
    "    # get page of activities from Strava\n",
    "    r = requests.get(url + '?access_token=' + access_token + '&per_page=200' + '&page=' + str(page))\n",
    "    r = r.json()\n",
    "# if no results then exit loop\n",
    "    if (not r):\n",
    "        break\n",
    "    \n",
    "    # otherwise add new data to dataframe\n",
    "    for x in range(len(r)):\n",
    "        activities.loc[x + (page-1)*200,'name'] = r[x]['name']\n",
    "        activities.loc[x + (page-1)*200,'start_date_local'] = r[x]['start_date_local']\n",
    "        activities.loc[x + (page-1)*200,'type'] = r[x]['type']\n",
    "        activities.loc[x + (page-1)*200,'distance'] = r[x]['distance']\n",
    "        activities.loc[x + (page-1)*200,'moving_time'] = r[x]['moving_time']\n",
    "        activities.loc[x + (page-1)*200,'elapsed_time'] = r[x]['elapsed_time']\n",
    "        activities.loc[x + (page-1)*200,'total_elevation_gain'] = r[x]['total_elevation_gain']\n",
    "# increment page\n",
    "    page += 1\n",
    "activities.to_csv('strava_activities_raw.csv')"
   ]
  },
  {
   "cell_type": "code",
   "execution_count": null,
   "metadata": {},
   "outputs": [],
   "source": [
    "import datetime\n",
    "\n",
    "def seconds_to_duration(n): \n",
    "    return str(datetime.timedelta(seconds = n)) \n",
    "\n",
    "act = pd.read_csv('strava_activities_raw.csv').drop(['Unnamed: 0'],axis=1)\n",
    "act.rename(columns={'distance':'distance_meters'},inplace=True)\n",
    "act['distance_miles'] = act.distance_meters / 1609\n",
    "act['total_elevation_gain'] = act.total_elevation_gain * 3.28084\n",
    "act['moving_time'] = act.apply(lambda x: seconds_to_duration(x['moving_time']),axis=1) #Converts seconds to duration\n",
    "act['elapsed_time'] = act.apply(lambda x: seconds_to_duration(x['elapsed_time']),axis=1) #Converts seconds to duration\n",
    "\n",
    "act.to_csv('strava_activities.csv')"
   ]
  },
  {
   "cell_type": "code",
   "execution_count": null,
   "metadata": {},
   "outputs": [],
   "source": []
  }
 ]
}